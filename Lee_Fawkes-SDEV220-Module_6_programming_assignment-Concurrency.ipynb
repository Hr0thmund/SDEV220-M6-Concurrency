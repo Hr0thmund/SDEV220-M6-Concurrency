{
 "cells": [
  {
   "cell_type": "code",
   "execution_count": 1,
   "id": "47897fb8-3381-4e08-811f-33a135b4db44",
   "metadata": {},
   "outputs": [],
   "source": [
    "# Lee Fawkes\n",
    "# SDEV 220 - Andrew Emily\n",
    "# Module 6 Programming Assignment - Concurrency in Python"
   ]
  },
  {
   "cell_type": "code",
   "execution_count": 7,
   "id": "070f519e-c234-4c97-90b6-60534128782a",
   "metadata": {},
   "outputs": [],
   "source": [
    "# 13.1: Write the current date as a string to the text file today.txt\n",
    "from datetime import date\n",
    "\n",
    "thisDate = date.today()\n",
    "with open(\"today.txt\", \"wt\") as file:\n",
    "    file.write(str(thisDate))"
   ]
  },
  {
   "cell_type": "code",
   "execution_count": 11,
   "id": "ced0f61d-59b4-4c1e-8523-aca6347d3dd1",
   "metadata": {},
   "outputs": [
    {
     "name": "stdout",
     "output_type": "stream",
     "text": [
      "2024-12-01\n"
     ]
    }
   ],
   "source": [
    "# 13.2: Read the test file today.txt into the string today_string\n",
    "# Assuming today.txt is the file from the previous exercise, not \n",
    "# worrying about file size etc. Could use file.read([chuck size])\n",
    "# or file.readline() if we were worried about file size.\n",
    "\n",
    "with open(\"today.txt\", \"rt\") as file:\n",
    "    today_string = file.read()\n",
    "    print(today_string)"
   ]
  },
  {
   "cell_type": "code",
   "execution_count": 13,
   "id": "56180c67-7f4c-4bf9-9a51-5491530073c9",
   "metadata": {},
   "outputs": [
    {
     "name": "stdout",
     "output_type": "stream",
     "text": [
      "Year: 2024\n",
      "Month: 12\n",
      "Day: 1\n"
     ]
    }
   ],
   "source": [
    "# 13.3: Parse the date from today_string\n",
    "from datetime import datetime\n",
    "\n",
    "with open(\"today.txt\", \"rt\") as file:\n",
    "    today_string = file.read()\n",
    "\n",
    "time_struct = datetime.strptime(today_string, \"%Y-%m-%d\")\n",
    "year = time_struct.year\n",
    "month = time_struct.month\n",
    "day = time_struct.day\n",
    "\n",
    "print(\"Year:\", year)\n",
    "print(\"Month:\", month)\n",
    "print(\"Day:\", day)"
   ]
  },
  {
   "cell_type": "code",
   "execution_count": 17,
   "id": "fe1a3259-1d5f-4405-b2da-a9ecef3411ca",
   "metadata": {},
   "outputs": [],
   "source": [
    "# 15.1: Use \"multiprocessing\" to create three separate processes.\n",
    "# Make each one wait a random number of seconds between zero and one,\n",
    "# print the current time, and then exit.\n",
    "import multiprocessing\n",
    "from datetime import datetime\n",
    "from time import sleep\n",
    "from random import randint\n",
    "\n",
    "\n",
    "def wait_and_print():\n",
    "    sleep(randint(0,2))\n",
    "    print(datetime.now())\n",
    "\n",
    "for n in range(3):\n",
    "    p = multiprocessing.Process(target=wait_and_print)\n",
    "    p.start()\n",
    "    "
   ]
  },
  {
   "cell_type": "code",
   "execution_count": 21,
   "id": "b0b90b63-df27-4167-8f19-7a2fb55ecb29",
   "metadata": {},
   "outputs": [
    {
     "data": {
      "text/plain": [
       "'\\nhrothmund@delos:~/skool/sdev-220/m6$ python3 15.1.py\\n2024-12-01 23:38:38.125128\\n2024-12-01 23:38:38.125844\\n2024-12-01 23:38:39.125998\\nhrothmund@delos:~/skool/sdev-220/m6$ cat 15.1.py\\nimport multiprocessing\\nfrom datetime import datetime\\nfrom time import sleep\\nfrom random import randint\\n\\n\\ndef wait_and_print():\\n    sleep(randint(0,2))\\n    print(datetime.now())\\n\\nfor n in range(3):\\n    p = multiprocessing.Process(target=wait_and_print)\\n    p.start()\\nhrothmund@delos:~/skool/sdev-220/m6$\\n'"
      ]
     },
     "execution_count": 21,
     "metadata": {},
     "output_type": "execute_result"
    }
   ],
   "source": [
    "# That worked in my dev box. I'm up against the deadline so I don't have time\n",
    "# to troubleshoot why it didn't work in Jupyter, but here's the output from my dev box:\n",
    "\"\"\"\n",
    "hrothmund@delos:~/skool/sdev-220/m6$ python3 15.1.py\n",
    "2024-12-01 23:38:38.125128\n",
    "2024-12-01 23:38:38.125844\n",
    "2024-12-01 23:38:39.125998\n",
    "hrothmund@delos:~/skool/sdev-220/m6$ cat 15.1.py\n",
    "import multiprocessing\n",
    "from datetime import datetime\n",
    "from time import sleep\n",
    "from random import randint\n",
    "\n",
    "\n",
    "def wait_and_print():\n",
    "    sleep(randint(0,2))\n",
    "    print(datetime.now())\n",
    "\n",
    "for n in range(3):\n",
    "    p = multiprocessing.Process(target=wait_and_print)\n",
    "    p.start()\n",
    "hrothmund@delos:~/skool/sdev-220/m6$\n",
    "\"\"\""
   ]
  },
  {
   "cell_type": "code",
   "execution_count": null,
   "id": "09ffe662-f5ed-4f45-afbb-9a53780f1ad7",
   "metadata": {},
   "outputs": [],
   "source": []
  }
 ],
 "metadata": {
  "kernelspec": {
   "display_name": "Python 3 (ipykernel)",
   "language": "python",
   "name": "python3"
  },
  "language_info": {
   "codemirror_mode": {
    "name": "ipython",
    "version": 3
   },
   "file_extension": ".py",
   "mimetype": "text/x-python",
   "name": "python",
   "nbconvert_exporter": "python",
   "pygments_lexer": "ipython3",
   "version": "3.12.4"
  }
 },
 "nbformat": 4,
 "nbformat_minor": 5
}
